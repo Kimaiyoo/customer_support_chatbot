{
  "cells": [
    {
      "cell_type": "code",
      "execution_count": 1,
      "metadata": {
        "id": "Px_7TV9l-_tc"
      },
      "outputs": [],
      "source": [
        "# import libraries\n",
        "import os\n",
        "from typing import TypedDict, List, Dict\n",
        "from langchain_groq import ChatGroq\n",
        "from langchain.chains import LLMChain\n",
        "from langchain.prompts import ChatPromptTemplate\n",
        "from dotenv import load_dotenv"
      ]
    },
    {
      "cell_type": "code",
      "execution_count": 2,
      "metadata": {
        "id": "I4LQQgbDMi9S"
      },
      "outputs": [],
      "source": [
        "# defining categories\n",
        "class Category(TypedDict):\n",
        "    name: str\n",
        "    keywords: List[str]\n",
        "    response: str\n",
        "\n",
        "categories: List[Category] = [\n",
        "    {\n",
        "        \"name\": \"Billing\",\n",
        "        \"keywords\": [\"payment\", \"invoice\", \"bill\", \"charge\"],\n",
        "        \"response\": \"For billing questions, please check your account settings or contact billing support.\"\n",
        "    },\n",
        "    {\n",
        "        \"name\": \"Technical Support\",\n",
        "        \"keywords\": [\"error\", \"problem\", \"not working\", \"issue\"],\n",
        "        \"response\": \"Please try restarting your device. If the problem persists, contact technical support.\"\n",
        "    },\n",
        "    {\n",
        "        \"name\": \"General Inquiry\",\n",
        "        \"keywords\": [\"hours\", \"location\", \"contact\"],\n",
        "        \"response\": \"Our business hours are 9 AM to 5 PM, Monday to Friday.\"\n",
        "    }\n",
        "]"
      ]
    },
    {
      "cell_type": "code",
      "execution_count": 3,
      "metadata": {
        "id": "0lVcY17jnnwB"
      },
      "outputs": [],
      "source": [
        "# classification\n",
        "def classify_question(question: str, categories: List[Category]) -> str:\n",
        "    question_lower = question.lower()\n",
        "    category_scores: Dict[str, int] = {}\n",
        "\n",
        "    for category in categories:\n",
        "        score = sum(keyword in question_lower for keyword in category[\"keywords\"])\n",
        "        category_scores[category[\"name\"]] = score\n",
        "\n",
        "    best_match = max(category_scores, key=category_scores.get)\n",
        "\n",
        "    if category_scores[best_match] == 0:\n",
        "        return \"Unknown\"\n",
        "\n",
        "    return best_match"
      ]
    },
    {
      "cell_type": "code",
      "execution_count": 4,
      "metadata": {
        "colab": {
          "base_uri": "https://localhost:8080/"
        },
        "id": "B_NQ24XToIbn",
        "outputId": "82d2e794-dccb-4b58-bdba-2cf4e169a001"
      },
      "outputs": [
        {
          "name": "stdout",
          "output_type": "stream",
          "text": [
            "Hello! Yes, I am working and ready to assist you with any questions or topics you'd like to discuss. How can I help you today?\n"
          ]
        }
      ],
      "source": [
        "# connect to groq\n",
        "load_dotenv()\n",
        "API_KEY = os.getenv(\"OPENAI_API_KEY\")\n",
        "\n",
        "llm = ChatGroq(model=\"llama-3.1-8b-instant\")\n",
        "\n",
        "# Quick test\n",
        "test_response = llm.invoke(\"Hello! Can you confirm you are working?\")\n",
        "print(test_response.content)"
      ]
    },
    {
      "cell_type": "code",
      "execution_count": 9,
      "metadata": {
        "colab": {
          "base_uri": "https://localhost:8080/"
        },
        "id": "3HqUMlbNpEDa",
        "outputId": "bc379e56-bbfe-4abb-8e30-e417927d3dd6"
      },
      "outputs": [
        {
          "name": "stdout",
          "output_type": "stream",
          "text": [
            "Category: Billing\n",
            "\n",
            "I'd be happy to help you with your payment issue. Can you please try processing the payment again and check if there are any error messages? If the issue persists, please provide me with your order number or account information so I can assist you further.\n"
          ]
        }
      ],
      "source": [
        "# prompt template & chain\n",
        "prompt = ChatPromptTemplate.from_template(\"\"\"\n",
        "You are a helpful support assistant.\n",
        "Classify the question into one of these categories:\n",
        "- Billing\n",
        "- Technical Support\n",
        "- General Inquiry\n",
        "\n",
        "Then respond with a short, polite message.\n",
        "Question: {question}\n",
        "\"\"\")\n",
        "\n",
        "chain = prompt | llm\n",
        "\n",
        "test_output = chain.invoke({\"question\": \"My payment is not going through, what should I do?\"})\n",
        "print(test_output.content)"
      ]
    },
    {
      "cell_type": "code",
      "execution_count": 6,
      "metadata": {
        "id": "za-2ilvHqARA"
      },
      "outputs": [],
      "source": [
        "# frustration detection\n",
        "frustration_keywords = [\"angry\", \"frustrated\", \"not happy\"]\n",
        "\n",
        "def check_frustration(text: str) -> bool:\n",
        "    return any(word in text.lower() for word in frustration_keywords)"
      ]
    },
    {
      "cell_type": "code",
      "execution_count": 7,
      "metadata": {
        "colab": {
          "base_uri": "https://localhost:8080/"
        },
        "id": "cAN_pgVsq2gx",
        "outputId": "29541c81-8ab3-49d7-e900-ede945c65c9f"
      },
      "outputs": [
        {
          "name": "stdout",
          "output_type": "stream",
          "text": [
            "Bot: Classification: Technical Support\n",
            "\n",
            "Response:\n",
            "\"I'm so sorry to hear that our page is causing you difficulties. I'd be happy to help you troubleshoot the issue. Can you please tell me more about the problems you're experiencing, such as the speed of the page load or any error messages you've seen? This will help me provide a more accurate solution.\"\n",
            "Bot: Classification: Technical Support\n",
            "\n",
            "Response:\n",
            "\"I understand that the page load time is a major issue for you. Can you please tell me what type of device and browser you're using to access our page? Additionally, have you recently updated your browser or tried clearing your cache and cookies? This information will help me narrow down the possible causes of the slow page load.\"\n",
            "Bot: Category: Technical Support\n",
            "\n",
            "Response:\n",
            "\"I appreciate your patience and for providing more details. Since the issue is occurring on multiple devices and browsers, it might be related to our server or network. I'm going to escalate this to our technical team to investigate further. Can you please provide your email address so we can keep you updated on the status and any potential solutions?\"\n",
            "Bot: Classification: Technical Support\n",
            "\n",
            "Response:\n",
            "\"Thank you for providing your email address. I've escalated the issue to our technical team, and they'll be investigating further to resolve the problem as soon as possible. As for the timeline, I can't provide an exact estimate, but I can assure you that they'll work diligently to resolve the issue. In the meantime, if you have any other questions or concerns, please don't hesitate to reach out. We appreciate your patience and cooperation in this matter.\"\n",
            "Bot: Goodbye!\n",
            "\n",
            "--- Chat History ---\n",
            "User: Your page has an takes too long to load and is making my work really difficult as i can't finish anything on time, this is really getting on my nerves!!!!\n",
            "Bot: Classification: Technical Support\n",
            "\n",
            "Response:\n",
            "\"I'm so sorry to hear that our page is causing you difficulties. I'd be happy to help you troubleshoot the issue. Can you please tell me more about the problems you're experiencing, such as the speed of the page load or any error messages you've seen? This will help me provide a more accurate solution.\"\n",
            "User: i was tryng to access the page and it took waay too long\n",
            "Bot: Classification: Technical Support\n",
            "\n",
            "Response:\n",
            "\"I understand that the page load time is a major issue for you. Can you please tell me what type of device and browser you're using to access our page? Additionally, have you recently updated your browser or tried clearing your cache and cookies? This information will help me narrow down the possible causes of the slow page load.\"\n",
            "User: Yes, it happens on all pages, and I tried on both my phone and laptop. It's still very slow.\n",
            "Bot: Category: Technical Support\n",
            "\n",
            "Response:\n",
            "\"I appreciate your patience and for providing more details. Since the issue is occurring on multiple devices and browsers, it might be related to our server or network. I'm going to escalate this to our technical team to investigate further. Can you please provide your email address so we can keep you updated on the status and any potential solutions?\"\n",
            "User: Sure, my email is testuser@example.com . How long will it take to get this fixed?\n",
            "Bot: Classification: Technical Support\n",
            "\n",
            "Response:\n",
            "\"Thank you for providing your email address. I've escalated the issue to our technical team, and they'll be investigating further to resolve the problem as soon as possible. As for the timeline, I can't provide an exact estimate, but I can assure you that they'll work diligently to resolve the issue. In the meantime, if you have any other questions or concerns, please don't hesitate to reach out. We appreciate your patience and cooperation in this matter.\"\n",
            "Bot: Goodbye!\n"
          ]
        }
      ],
      "source": [
        "def format_history(chat_history):\n",
        "    \"\"\"\n",
        "    Turns chat_history list into a single formatted string.\n",
        "    Example:\n",
        "    User: Hello\n",
        "    Bot: Hi there!\n",
        "    \"\"\"\n",
        "    return \"\\n\".join(f\"{speaker.capitalize()}: {text}\" for speaker, text in chat_history)\n",
        "\n",
        "def run_chatbot():\n",
        "    chat_history = []\n",
        "\n",
        "    while True:\n",
        "        user_input = input(\"You: \")\n",
        "        if user_input.lower() in [\"exit\", \"quit\"]:\n",
        "            print(\"Bot: Goodbye!\")\n",
        "            chat_history.append((\"bot\", \"Goodbye!\"))\n",
        "            break\n",
        "\n",
        "        chat_history.append((\"user\", user_input))\n",
        "\n",
        "        if check_frustration(user_input):\n",
        "            category = classify_question(user_input, categories)\n",
        "            response = f\"I can see this is frustrating. I'll connect you to a human in {category} support.\"\n",
        "            print(f\"Bot: {response}\")\n",
        "            chat_history.append((\"bot\", response))\n",
        "            continue\n",
        "\n",
        "        category = classify_question(user_input, categories)\n",
        "\n",
        "        if category == \"Unknown\":\n",
        "            # Pass chat history to the LLM for better context\n",
        "            full_context = format_history(chat_history)\n",
        "            llm_prompt = (\n",
        "                f\"The following is a conversation between a user and a helpful chatbot.\\n\"\n",
        "                f\"{full_context}\\n\"\n",
        "                f\"Bot:\"\n",
        "            )\n",
        "            llm_response = chain.invoke({\"question\": llm_prompt})\n",
        "            response = llm_response.content\n",
        "        else:\n",
        "            response = next(c[\"response\"] for c in categories if c[\"name\"] == category)\n",
        "\n",
        "        print(f\"Bot: {response}\")\n",
        "        chat_history.append((\"bot\", response))\n",
        "\n",
        "    print(\"\\n--- Chat History ---\")\n",
        "    for speaker, text in chat_history:\n",
        "        print(f\"{speaker.capitalize()}: {text}\")\n",
        "\n",
        "\n",
        "# Start chatbot\n",
        "run_chatbot()\n"
      ]
    }
  ],
  "metadata": {
    "colab": {
      "provenance": []
    },
    "kernelspec": {
      "display_name": ".venv",
      "language": "python",
      "name": "python3"
    },
    "language_info": {
      "codemirror_mode": {
        "name": "ipython",
        "version": 3
      },
      "file_extension": ".py",
      "mimetype": "text/x-python",
      "name": "python",
      "nbconvert_exporter": "python",
      "pygments_lexer": "ipython3",
      "version": "3.12.3"
    }
  },
  "nbformat": 4,
  "nbformat_minor": 0
}
